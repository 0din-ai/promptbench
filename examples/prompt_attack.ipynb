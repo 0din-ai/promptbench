{
 "cells": [
  {
   "cell_type": "code",
   "execution_count": 1,
   "metadata": {},
   "outputs": [
    {
     "name": "stderr",
     "output_type": "stream",
     "text": [
      "/home/v-zhukaijie/anaconda3/envs/promptbench/lib/python3.8/site-packages/tqdm/auto.py:21: TqdmWarning: IProgress not found. Please update jupyter and ipywidgets. See https://ipywidgets.readthedocs.io/en/stable/user_install.html\n",
      "  from .autonotebook import tqdm as notebook_tqdm\n",
      "2023-11-29 05:19:50.047471: I tensorflow/core/platform/cpu_feature_guard.cc:193] This TensorFlow binary is optimized with oneAPI Deep Neural Network Library (oneDNN) to use the following CPU instructions in performance-critical operations:  SSE4.1 SSE4.2 AVX AVX2 FMA\n",
      "To enable them in other operations, rebuild TensorFlow with the appropriate compiler flags.\n"
     ]
    }
   ],
   "source": [
    "import promptbench as pb\n",
    "from promptbench.models import LLMModel\n",
    "from promptbench.prompt_attack import Attack"
   ]
  },
  {
   "cell_type": "code",
   "execution_count": 2,
   "metadata": {},
   "outputs": [
    {
     "name": "stderr",
     "output_type": "stream",
     "text": [
      "You are using the default legacy behaviour of the <class 'transformers.models.t5.tokenization_t5.T5Tokenizer'>. This is expected, and simply means that the `legacy` (previous) behavior will be used so nothing changes for you. If you want to use the new behaviour, set `legacy=False`. This should only be set if you understand what it means, and thouroughly read the reason why this was added as explained in https://github.com/huggingface/transformers/pull/24565\n",
      "Special tokens have been added in the vocabulary, make sure the associated word embeddings are fine-tuned or trained.\n"
     ]
    },
    {
     "name": "stdout",
     "output_type": "stream",
     "text": [
      "These words (if they appear in the prompt) are not allowed to be attacked:\n",
      "['positive', 'negative', 'content']\n"
     ]
    },
    {
     "name": "stderr",
     "output_type": "stream",
     "text": [
      "/home/v-zhukaijie/anaconda3/envs/promptbench/lib/python3.8/site-packages/transformers/generation/configuration_utils.py:381: UserWarning: `do_sample` is set to `False`. However, `temperature` is set to `0` -- this flag is only used in sample-based generation modes. You should set `do_sample=True` or unset `temperature`.\n",
      "  warnings.warn(\n"
     ]
    },
    {
     "name": "stdout",
     "output_type": "stream",
     "text": [
      "(0.0, \"As a sentiment classifier, determine whether the following text is 'positive' or 'negative'. Please classify: \\nQuestion: {content}\\nAnswer  and false is not true :\", 0.0, 0.0)\n"
     ]
    }
   ],
   "source": [
    "# create model\n",
    "model_t5 = LLMModel(model='google/flan-t5-large')\n",
    "\n",
    "# create dataset\n",
    "dataset = pb.DatasetLoader.load_dataset(\"sst2\")\n",
    "\n",
    "# create prompt\n",
    "prompt = \"As a sentiment classifier, determine whether the following text is 'positive' or 'negative'. Please classify: \\nQuestion: {content}\\nAnswer:\"\n",
    "\n",
    "# define the input process function, output process function, and evaluation function\n",
    "input_process_func = pb.InputProcess.basic_format\n",
    "output_process_func = pb.OutputProcess.cls\n",
    "eval_func = pb.Eval.compute_cls_accuracy\n",
    "\n",
    "# define the unmodifiable words in the prompt\n",
    "# for example, \"positive\" and \"negative\" are unmodifiable, and \"content\" is modifiable because it is a placeholder\n",
    "unmodifiable_words = [\"positive\", \"negative\", \"content\"]\n",
    "\n",
    "# create attack, specify the model, dataset, prompt, input process function, output process function, evaluation function, and unmodifiable words\n",
    "attack = Attack(model_t5, \"stresstest\", dataset, prompt, input_process_func, output_process_func, eval_func, unmodifiable_words)\n",
    "\n",
    "# print attack result\n",
    "print(attack.attack())"
   ]
  },
  {
   "cell_type": "code",
   "execution_count": null,
   "metadata": {},
   "outputs": [],
   "source": []
  }
 ],
 "metadata": {
  "kernelspec": {
   "display_name": "promptbench",
   "language": "python",
   "name": "python3"
  },
  "language_info": {
   "codemirror_mode": {
    "name": "ipython",
    "version": 3
   },
   "file_extension": ".py",
   "mimetype": "text/x-python",
   "name": "python",
   "nbconvert_exporter": "python",
   "pygments_lexer": "ipython3",
   "version": "3.8.16"
  }
 },
 "nbformat": 4,
 "nbformat_minor": 2
}
